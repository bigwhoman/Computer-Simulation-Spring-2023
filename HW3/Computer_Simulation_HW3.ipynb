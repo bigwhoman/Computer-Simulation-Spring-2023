{
  "cells": [
    {
      "cell_type": "markdown",
      "metadata": {
        "id": "Z8CWp1AKAQzw"
      },
      "source": [
        "# Explanation\n",
        "In this question, you will be implementing several Random Number Generators (RNGs) and testing their effectiveness through a series of statistical tests."
      ]
    },
    {
      "attachments": {},
      "cell_type": "markdown",
      "metadata": {
        "id": "Vx078njwCzQZ"
      },
      "source": [
        "## Theory Question:\n",
        "What is a **Pseudorandom Number Generator(PRNG)**? Compare it to **RNGs**. \n",
        "<br>\n",
        "\n",
        "## Answer\n",
        "Psuedorandom Number Generator uses a deterministic algorithm to approximate properties of random numbers but a RNG produces numbers that are truly random.\n",
        "<br>\n",
        "Differences : \n",
        "<br>\n",
        "<li> PRNGs are deterministic and will produce the same sequence of numbers given same initial seed \n",
        "<li> PRNGs have a finite period but RNGs don't have finite period\n",
        "<li> PRNGs are much faster than RNGs to generate ranodm numbers because they use a virtual algorithm instead of RNGs    that rely on physical source of randomness\n",
        "<li> PRNGs are not safe because statisticly they don't truly have randomness thus the pattern can be detected"
      ]
    },
    {
      "cell_type": "markdown",
      "metadata": {
        "id": "DNTnCjldAhwW"
      },
      "source": [
        "## Imports"
      ]
    },
    {
      "cell_type": "code",
      "execution_count": 1,
      "metadata": {
        "id": "f1Nz5q4MOoge"
      },
      "outputs": [],
      "source": [
        "import numpy as np\n",
        "import matplotlib.pyplot as plt\n",
        "import scipy.stats as stats\n",
        "import random"
      ]
    },
    {
      "cell_type": "markdown",
      "metadata": {
        "id": "QukowTXPDTNd"
      },
      "source": [
        "# (P)Random-Number Generator Implementation"
      ]
    },
    {
      "cell_type": "markdown",
      "metadata": {
        "id": "9UT5u2s9AmKl"
      },
      "source": [
        "## Linear Congruential Generator (LCG):\n",
        "LCG is a type of RNG that produces a sequence of random numbers based on a linear function. To implement LCG, you will need to follow these steps:\n",
        "\n",
        "*   Set a seed value.\n",
        "*   Choose appropriate values for the multiplier (a), increment (c), and modulus (m).\n",
        "*   Apply the LCG formula to generate a sequence of random numbers."
      ]
    },
    {
      "cell_type": "code",
      "execution_count": 10,
      "metadata": {
        "id": "hrAsMrIEPqbh"
      },
      "outputs": [
        {
          "name": "stdout",
          "output_type": "stream",
          "text": [
            "[25. 68. 99. 26.]\n"
          ]
        }
      ],
      "source": [
        "def lcg(seed, a, c, m, n):\n",
        "    numbers = np.zeros(n)\n",
        "    # randoms = np.zeros(n)\n",
        "    numbers[0] = seed\n",
        "    for i in range(1,n):\n",
        "      numbers[i] = (a * numbers[i-1] + c)%m \n",
        "    return numbers\n",
        "# print(lcg(25,17,43,100,4))"
      ]
    },
    {
      "cell_type": "markdown",
      "metadata": {
        "id": "3r4p_hP9BOu-"
      },
      "source": [
        "## Combined LCG:\n",
        "\n",
        "Combined LCG is an improved version of LCG that combines the outputs of two or more LCGs to produce a better sequence of random numbers. To implement CLCG, you will need to follow this algorithm:\n",
        "\n",
        "*   Initialize two or more LCGs with different seed values.\n",
        "*   Generate random numbers using each LCG.\n",
        "*   Combine the random numbers using a mathematical function.\n",
        "    \n",
        "    \n",
        "    "
      ]
    },
    {
      "cell_type": "code",
      "execution_count": 43,
      "metadata": {
        "id": "ML5UAT_WPsg6"
      },
      "outputs": [
        {
          "name": "stdout",
          "output_type": "stream",
          "text": [
            "0b101010\n"
          ]
        }
      ],
      "source": [
        "def combined_lcg(seed1, seed2, a1, c1, m1, a2, c2, m2, n):\n",
        "    #TODO\n",
        "    lcg1 = lcg(seed=seed1,a=a1,c=c1,m=m1,n=n)\n",
        "    lcg2 = lcg(seed=seed2,a=a2,c=c2,m=m2,n=n)\n",
        "    return (lcg1 - lcg2) % (m1-1)\n",
        "\n",
        "# x = 0b1110101001\n",
        "# l = 2\n",
        "# h = 7\n",
        "\n",
        "# bits = ((1 << (h - l + 1)) - 1) << l\n",
        "# bits = (x & bits) >> l\n",
        "# print(bin(bits))\n",
        "# print(x)\n",
        "# print(combined_lcg(12,27,15,7,110,9,12,23,4))"
      ]
    },
    {
      "cell_type": "markdown",
      "metadata": {
        "id": "yGI0XUyqBwHa"
      },
      "source": [
        "## Truncated LCG:\n",
        "Truncated LCG is another variation of LCG that generates better random numbers by truncating the least significant bits of each iteration. To implement Truncated LCG, you will need to:\n",
        "\n",
        "*   Initialize LCG with an appropriate seed value.\n",
        "*   Choose appropriate values for the multiplier (a), increment (c), and modulus (m).\n",
        "*   Set a lower bound and an upper bound for the number of bits to be stored in each iteration.\n",
        "*   Apply the Truncated LCG formula to generate a sequence of random numbers.\n",
        "\n",
        "\n",
        "\n",
        "\n"
      ]
    },
    {
      "cell_type": "code",
      "execution_count": 54,
      "metadata": {
        "id": "P8-ZIXn9PzDH"
      },
      "outputs": [],
      "source": [
        "def tlcg(seed, a, c, m, l=5, h=20, size=5):\n",
        "    \n",
        "    # Initialize variables\n",
        "    x = seed % m  # current value of the generator\n",
        "    result = []   # list to store generated numbers\n",
        "    \n",
        "    # Generate pseudo-random numbers using TLCG algorithm\n",
        "    for i in range(size):\n",
        "        x = (a * x + c) % m  # generate next number\n",
        "        \n",
        "        # Truncate bits and store only bits between l and h\n",
        "        bits = (((1 << (h - l + 1)) - 1) << l)\n",
        "        bits = bin((x & bits) >> l)\n",
        "        #TODO\n",
        "        \n",
        "        # Normalize the truncated number and append to result list\n",
        "        result.append(int(bits, 2) / (2**(h-l+1)))\n",
        "        \n",
        "    return result"
      ]
    },
    {
      "cell_type": "markdown",
      "metadata": {
        "id": "Feh9TdjeCi6H"
      },
      "source": [
        "## Python Random:\n",
        "Python has a built-in random function that uses the **Mersenne Twister** algorithm to generate random numbers. You can simply use this function to generate a sequence of random numbers."
      ]
    },
    {
      "cell_type": "code",
      "execution_count": 46,
      "metadata": {
        "id": "47LHJTBzCti_"
      },
      "outputs": [],
      "source": [
        "#TODO\n",
        "import random"
      ]
    },
    {
      "cell_type": "code",
      "execution_count": 55,
      "metadata": {
        "id": "ps8D54gZFXyH"
      },
      "outputs": [],
      "source": [
        "n = 10000\n",
        "seed1, seed2 = 123, 456\n",
        "a1, c1, m1 = 16807, 0, 2**31 - 1\n",
        "a2, c2, m2 = 48271, 0, 2**31 - 1\n",
        "p = 1000\n",
        "\n",
        "lcg_numbers = lcg(seed1, a1, c1, m1, n)\n",
        "truncated_lcg_numbers = tlcg(seed1, a1, c1, m1, size=n)\n",
        "combined_lcg_numbers = combined_lcg(seed1, seed2, a1, c1, m1, a2, c2, m2, n)\n",
        "#TODO\n",
        "python_random_numbers = [random.randint(0,2**31-1) for _ in range(n)]"
      ]
    },
    {
      "cell_type": "markdown",
      "metadata": {
        "id": "3L-N2GHKDo1S"
      },
      "source": [
        "# Test Methods Implementation\n",
        "After implementing the RNGs, you need to test their effectiveness through a series of statistical tests:"
      ]
    },
    {
      "cell_type": "markdown",
      "metadata": {
        "id": "Wwn822OOD96-"
      },
      "source": [
        "## Kolmogorov-Smirnov test:\n",
        "This test checks whether the distribution of the generated random numbers follows a particular distribution."
      ]
    },
    {
      "cell_type": "code",
      "execution_count": 71,
      "metadata": {
        "id": "SpRZrwqSD9Gt"
      },
      "outputs": [],
      "source": [
        "def ks_test(numbers):\n",
        "    #TODO\n",
        "    #Hint: You may use: stats.kstest()\n",
        "    return stats.kstest(numbers,'norm')"
      ]
    },
    {
      "cell_type": "markdown",
      "metadata": {
        "id": "PpxqN29dElm5"
      },
      "source": [
        "## Chi-Square test: \n",
        "This test checks whether the distribution of the generated random numbers is statistically independent."
      ]
    },
    {
      "cell_type": "code",
      "execution_count": 57,
      "metadata": {
        "id": "HmC_rUsfEbtj"
      },
      "outputs": [],
      "source": [
        "def chi_square_test(numbers, num_bins):\n",
        "    freq, _, _ = plt.hist(numbers, bins=num_bins)\n",
        "    plt.clf()\n",
        "    expected_freq = np.full(num_bins, len(numbers) / num_bins)\n",
        "    return stats.chisquare(freq, expected_freq)"
      ]
    },
    {
      "cell_type": "markdown",
      "metadata": {
        "id": "lQ3G5D0JEwxL"
      },
      "source": [
        "## Auto-correlation test:\n",
        "This test checks whether there is a correlation between generated numbers and their lagged versions."
      ]
    },
    {
      "cell_type": "code",
      "execution_count": 58,
      "metadata": {
        "id": "kAIhJcNoE0Q4"
      },
      "outputs": [],
      "source": [
        "def autocorrelation_test(numbers, lag):\n",
        "    x = numbers[:-lag]\n",
        "    y = numbers[lag:]\n",
        "    return np.corrcoef(x, y)[0, 1]"
      ]
    },
    {
      "cell_type": "markdown",
      "metadata": {
        "id": "X-qkpp5UFB2X"
      },
      "source": [
        "You can introduce another test, such as the Runs test, to test for randomness and implement it."
      ]
    },
    {
      "cell_type": "code",
      "execution_count": 59,
      "metadata": {
        "id": "A5SCoDbcFEPa"
      },
      "outputs": [],
      "source": [
        "num_bins = 100\n",
        "lag = 1"
      ]
    },
    {
      "cell_type": "markdown",
      "metadata": {
        "id": "diQ6nYkCF2Ha"
      },
      "source": [
        "# Show Results"
      ]
    },
    {
      "cell_type": "code",
      "execution_count": 73,
      "metadata": {
        "id": "z85cUBuzFMei"
      },
      "outputs": [
        {
          "name": "stdout",
          "output_type": "stream",
          "text": [
            "LCG:\n",
            "  Kolmogorov-Smirnov test: p-value = 0.000000\n",
            "  Chi-square test: p-value = 0.383123\n",
            "  Autocorrelation test: 0.006946\n",
            "\n",
            "Truncated LCG:\n",
            "  Kolmogorov-Smirnov test: p-value = 0.000000\n",
            "  Chi-square test: p-value = 0.981032\n",
            "  Autocorrelation test: -0.002444\n",
            "\n",
            "Combined LCG:\n",
            "  Kolmogorov-Smirnov test: p-value = 0.000000\n",
            "  Chi-square test: p-value = 0.493576\n",
            "  Autocorrelation test: -0.003450\n",
            "\n",
            "Python Random:\n",
            "  Kolmogorov-Smirnov test: p-value = 0.000000\n",
            "  Chi-square test: p-value = 0.657437\n",
            "  Autocorrelation test: -0.003227\n",
            "\n"
          ]
        },
        {
          "data": {
            "text/plain": [
              "<Figure size 640x480 with 0 Axes>"
            ]
          },
          "metadata": {},
          "output_type": "display_data"
        }
      ],
      "source": [
        "def print_results(title, ks, chi, auto):\n",
        "    print(f\"{title}:\")\n",
        "    print(f\"  Kolmogorov-Smirnov test: p-value = {ks.pvalue:.6f}\")\n",
        "    print(f\"  Chi-square test: p-value = {chi.pvalue:.6f}\")\n",
        "    print(f\"  Autocorrelation test: {auto:.6f}\")\n",
        "    print()\n",
        "\n",
        "print_results(\"LCG\", ks_test(lcg_numbers), chi_square_test(lcg_numbers, num_bins), autocorrelation_test(lcg_numbers, lag))\n",
        "print_results(\"Truncated LCG\", ks_test(truncated_lcg_numbers), chi_square_test(truncated_lcg_numbers, num_bins), autocorrelation_test(truncated_lcg_numbers, lag))\n",
        "print_results(\"Combined LCG\", ks_test(combined_lcg_numbers), chi_square_test(combined_lcg_numbers, num_bins), autocorrelation_test(combined_lcg_numbers, lag))\n",
        "#TODO\n",
        "print_results(\"Python Random\", ks_test(python_random_numbers), chi_square_test(python_random_numbers, num_bins), autocorrelation_test(python_random_numbers, lag))"
      ]
    },
    {
      "cell_type": "code",
      "execution_count": 74,
      "metadata": {
        "id": "oXO9r_M4HHMC"
      },
      "outputs": [
        {
          "data": {
            "image/png": "[encoded data removed]",
            "text/plain": [
              "<Figure size 1500x500 with 4 Axes>"
            ]
          },
          "metadata": {},
          "output_type": "display_data"
        }
      ],
      "source": [
        "plt.figure(figsize=(15, 5))\n",
        "\n",
        "plt.subplot(141)\n",
        "plt.hist(lcg_numbers, bins=num_bins, alpha=0.75, color='blue', edgecolor='black')\n",
        "plt.title(\"LCG Histogram\")\n",
        "\n",
        "plt.subplot(142)\n",
        "plt.hist(truncated_lcg_numbers, bins=num_bins, alpha=0.75, color='blue', edgecolor='black')\n",
        "plt.title(\"Truncated LCG Histogram\")\n",
        "\n",
        "plt.subplot(143)\n",
        "plt.hist(combined_lcg_numbers, bins=num_bins, alpha=0.75, color='blue', edgecolor='black')\n",
        "plt.title(\"Combined LCG Histogram\")\n",
        "\n",
        "plt.subplot(144)\n",
        "plt.hist(python_random_numbers, bins=num_bins, alpha=0.75, color='blue', edgecolor='black')\n",
        "plt.title(\"Python Random Histogram\")\n",
        "\n",
        "plt.show()"
      ]
    }
  ],
  "metadata": {
    "colab": {
      "provenance": []
    },
    "kernelspec": {
      "display_name": "Python 3 (ipykernel)",
      "language": "python",
      "name": "python3"
    },
    "language_info": {
      "codemirror_mode": {
        "name": "ipython",
        "version": 3
      },
      "file_extension": ".py",
      "mimetype": "text/x-python",
      "name": "python",
      "nbconvert_exporter": "python",
      "pygments_lexer": "ipython3",
      "version": "3.10.6"
    }
  },
  "nbformat": 4,
  "nbformat_minor": 0
}
