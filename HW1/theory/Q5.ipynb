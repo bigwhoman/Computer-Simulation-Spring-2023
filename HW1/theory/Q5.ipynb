{
 "cells": [
  {
   "cell_type": "markdown",
   "metadata": {},
   "source": [
    "Monte carlo"
   ]
  },
  {
   "cell_type": "markdown",
   "metadata": {},
   "source": [
    "Imports"
   ]
  },
  {
   "cell_type": "code",
   "execution_count": 7,
   "metadata": {},
   "outputs": [],
   "source": [
    "from random import *\n",
    "import numpy as np\n",
    "import matplotlib.pyplot as plt"
   ]
  },
  {
   "cell_type": "code",
   "execution_count": 8,
   "metadata": {},
   "outputs": [],
   "source": [
    "Customer_Num = [14,16,18,20]\n",
    "Customer_Prob = [0.2,0.28,0.3,0.22]\n",
    "Bread_Bought = [1,2,3,4]\n",
    "Bread_Prob = [0.5,0.15,0.1,0.25]\n",
    "simulation_days = 10\n",
    "generated_customers = []\n",
    "generated_breads = []\n",
    "generated_customer_numbers = []\n",
    "generated_bread_numbers = []"
   ]
  },
  {
   "cell_type": "code",
   "execution_count": 9,
   "metadata": {},
   "outputs": [],
   "source": [
    "def generate_custom(Custom_list,Prob_list):\n",
    "    return np.random.choice(Custom_list, p=Prob_list)"
   ]
  },
  {
   "cell_type": "code",
   "execution_count": 10,
   "metadata": {},
   "outputs": [],
   "source": [
    "def find_day_bread():\n",
    "    num_of_customers = generate_custom(Customer_Num,Customer_Prob)\n",
    "    generated_customers.append(num_of_customers)\n",
    "    sum_bread = 0\n",
    "    day = []\n",
    "    for customer in range(num_of_customers):\n",
    "        bread = generate_custom(Bread_Bought,Bread_Prob)\n",
    "        sum_bread += bread\n",
    "        day.append(bread)\n",
    "    generated_breads.append(day)\n",
    "    return sum_bread"
   ]
  },
  {
   "cell_type": "code",
   "execution_count": null,
   "metadata": {},
   "outputs": [],
   "source": []
  },
  {
   "cell_type": "code",
   "execution_count": 11,
   "metadata": {},
   "outputs": [
    {
     "name": "stdout",
     "output_type": "stream",
     "text": [
      "[41, 34, 36, 33, 31, 34, 46, 32, 37, 48]\n",
      "[20, 18, 20, 18, 18, 16, 18, 16, 16, 20]\n",
      "[[2, 1, 4, 2, 4, 1, 1, 1, 1, 1, 2, 2, 4, 2, 4, 1, 1, 2, 1, 4], [1, 1, 1, 1, 4, 2, 4, 1, 1, 1, 1, 1, 3, 3, 1, 3, 1, 4], [1, 4, 1, 1, 1, 4, 3, 3, 1, 1, 1, 1, 1, 1, 3, 1, 3, 3, 1, 1], [1, 1, 1, 1, 3, 2, 1, 4, 3, 3, 1, 1, 3, 4, 1, 1, 1, 1], [1, 1, 2, 1, 2, 2, 1, 4, 1, 1, 2, 1, 2, 1, 1, 4, 3, 1], [1, 1, 4, 1, 4, 1, 1, 4, 4, 1, 4, 1, 1, 1, 4, 1], [4, 4, 1, 1, 4, 4, 1, 1, 4, 1, 4, 3, 3, 1, 1, 1, 4, 4], [1, 4, 1, 1, 1, 1, 3, 4, 1, 1, 1, 1, 1, 3, 4, 4], [2, 4, 4, 3, 2, 4, 1, 1, 4, 1, 2, 3, 1, 3, 1, 1], [1, 1, 1, 4, 4, 4, 4, 1, 4, 4, 4, 1, 4, 1, 1, 1, 1, 1, 2, 4]]\n"
     ]
    }
   ],
   "source": [
    "bought_breads = []\n",
    "for i in range(simulation_days):\n",
    "    bought_breads.append(find_day_bread())\n",
    "print(bought_breads)\n",
    "print(generated_customers)\n",
    "print(generated_breads)"
   ]
  },
  {
   "cell_type": "code",
   "execution_count": 12,
   "metadata": {},
   "outputs": [
    {
     "name": "stdout",
     "output_type": "stream",
     "text": [
      "46\n"
     ]
    }
   ],
   "source": [
    "best_count = 0\n",
    "best_money = 0 \n",
    "for i in range(min(bought_breads),max(bought_breads) + 1):\n",
    "    money = 0 \n",
    "    for bread_count in bought_breads:\n",
    "        money += max(i - bread_count,0) * (-200) + min(i,bread_count) * (1200)\n",
    "    if money > best_money :\n",
    "        best_money = money\n",
    "        best_count = i\n",
    "print(best_count)"
   ]
  }
 ],
 "metadata": {
  "kernelspec": {
   "display_name": "Python 3.9.2 64-bit",
   "language": "python",
   "name": "python3"
  },
  "language_info": {
   "codemirror_mode": {
    "name": "ipython",
    "version": 3
   },
   "file_extension": ".py",
   "mimetype": "text/x-python",
   "name": "python",
   "nbconvert_exporter": "python",
   "pygments_lexer": "ipython3",
   "version": "3.9.2"
  },
  "orig_nbformat": 4,
  "vscode": {
   "interpreter": {
    "hash": "570e6187be653a659d6f952c573b248103619920d93763c2755e788ce8abaa28"
   }
  }
 },
 "nbformat": 4,
 "nbformat_minor": 2
}
